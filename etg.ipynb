{
  "nbformat": 4,
  "nbformat_minor": 0,
  "metadata": {
    "colab": {
      "name": "etg.ipynb",
      "provenance": []
    },
    "kernelspec": {
      "name": "python3",
      "display_name": "Python 3"
    },
    "language_info": {
      "name": "python"
    }
  },
  "cells": [
    {
      "cell_type": "code",
      "metadata": {
        "colab": {
          "base_uri": "https://localhost:8080/",
          "height": 137
        },
        "id": "v2eTDM0ZZBhp",
        "outputId": "68476ac2-eb1d-4fe4-d764-a2eb36ea6f43"
      },
      "source": [
        "import json\n",
        "fd = open(\"record.json\",'r')\n",
        "r = fd.read()\n",
        "fd.close()\n",
        "r"
      ],
      "execution_count": 58,
      "outputs": [
        {
          "output_type": "execute_result",
          "data": {
            "application/vnd.google.colaboratory.intrinsic+json": {
              "type": "string"
            },
            "text/plain": [
              "'{\"1001\": {\"name\": \"Choco Cake\", \"qn\": 34, \"pr\": 100}, \"1002\": {\"name\": \"Milk Cake\", \"pr\": 800, \"qn\": 100}, \"1003\": {\"name\": \"Drink\", \"pr\": 85, \"qn\": 100}, \"1004\": {\"name\": \"Candy\", \"pr\": 5, \"qn\": 1000}, \"1005\": {\"name\": \"Pen\", \"pr\": 20, \"qn\": 100}, \"1006\": {\"name\": \"Phone\", \"pr\": 50000, \"qn\": 10}, \"1007\": {\"name\": \"Mic\", \"pr\": 1500, \"qn\": 0}, \"1008\": {\"name\": \"Case\", \"pr\": 599, \"qn\": 5}, \"1009\": {\"name\": \"Keyboard\", \"pr\": 1999, \"qn\": 10}, \"1010\": {\"name\": \"bottle\", \"pr\": 99, \"qn\": 67}, \"1011\": {\"name\": \"oneplus buds\", \"pr\": 5000, \"qn\": 50}, \"1012\": {\"name\": \"echo dot\", \"pr\": 4500, \"qn\": 45}, \"1013\": {\"name\": \"wall clock\", \"pr\": 2300, \"qn\": 34}, \"1014\": {\"name\": \"washing machine\", \"pr\": 15000, \"qn\": 67}, \"1015\": {\"name\": \"Fridge\", \"pr\": 25000, \"qn\": 23}, \"1016\": {\"name\": \"laptop\", \"pr\": 89899, \"qn\": 57}, \"1017\": {\"name\": \"Hard disk\", \"pr\": 9899, \"qn\": 64}, \"1018\": {\"name\": \"air conditoner\", \"pr\": 50000, \"qn\": 45}, \"1019\": {\"name\": \"air cooler\", \"pr\": 12000, \"qn\": 34}, \"1020\": {\"name\": \"shoes\", \"pr\": 3000, \"qn\": 99}, \"1021\": {\"name\": \"mobile case\", \"pr\": 500, \"qn\": 100}, \"1022\": {\"name\": \"tempered glass\", \"pr\": 600, \"qn\": 78}, \"1023\": {\"name\": \"induction stove\", \"pr\": 3300, \"qn\": 32}, \"1024\": {\"name\": \"t-shirts\", \"pr\": 767, \"qn\": 2}, \"1025\": {\"name\": \"footwear\", \"pr\": 899, \"qn\": 43}, \"1026\": {\"name\": \"dishwashers\", \"pr\": 48990, \"qn\": 29}, \"1027\": {\"name\": \"microwaves\", \"pr\": 9000, \"qn\": 49}, \"1028\": {\"name\": \"televisions\", \"pr\": 40000, \"qn\": 81}, \"1029\": {\"name\": \"printers\", \"pr\": 15678, \"qn\": 21}, \"1030\": {\"name\": \"speakers\", \"pr\": 13000, \"qn\": 175}}'"
            ]
          },
          "metadata": {},
          "execution_count": 58
        }
      ]
    },
    {
      "cell_type": "code",
      "metadata": {
        "id": "vC2gvT9kZYNL"
      },
      "source": [
        "record = json.loads(r)"
      ],
      "execution_count": 15,
      "outputs": []
    },
    {
      "cell_type": "code",
      "metadata": {
        "colab": {
          "base_uri": "https://localhost:8080/"
        },
        "id": "Z4kUxmacaIUP",
        "outputId": "e976558c-2304-4376-9310-41277d13bb3e"
      },
      "source": [
        "prod_id = str(input(\"Enter product id: \"))\n",
        "name = str(input(\"enter the name: \"))\n",
        "pr = int(input(\"enter the price : \"))\n",
        "qn = int(input(\"enter the quantity : \"))\n",
        "record[prod_id] =  {'name': name, 'pr': pr, 'qn': qn}    \n",
        "js = json.dumps(record)\n"
      ],
      "execution_count": 56,
      "outputs": [
        {
          "name": "stdout",
          "output_type": "stream",
          "text": [
            "Enter product id: 1030\n",
            "enter the name: speakers\n",
            "enter the price : 13000\n",
            "enter the quantity : 175\n"
          ]
        }
      ]
    },
    {
      "cell_type": "code",
      "metadata": {
        "id": "xfy5Y-xmaIeW"
      },
      "source": [
        "fd = open(\"record.json\",'w')\n",
        "fd.write(js)\n",
        "fd.close()\n"
      ],
      "execution_count": 57,
      "outputs": []
    },
    {
      "cell_type": "code",
      "metadata": {
        "id": "t-SeDvO7aIsN"
      },
      "source": [
        "ui_prod = str(input(\"Enter the product id: \"))\n",
        "ui_quant = int(input(\"Enter the quantity: \"))\n",
        "\n",
        "print(\"product: \", record[ui_prod]['name'])\n",
        "print(\"price: \", record[ui_prod]['pr'])                        \n",
        "print(\"billing amount: \",record[ui_prod]['pr'] * ui_quant)\n",
        "record[ui_prod]['qn'] = record[ui_prod]['qn'] - ui_quant "
      ],
      "execution_count": null,
      "outputs": []
    },
    {
      "cell_type": "code",
      "metadata": {
        "id": "5_E68FBbacx8"
      },
      "source": [
        "s = json.dumps(record)\n",
        "fd = open(\"record.json\",'w')\n",
        "fd.write(js)\n",
        "fd.close"
      ],
      "execution_count": null,
      "outputs": []
    },
    {
      "cell_type": "code",
      "metadata": {
        "id": "lBaWvpYZac9S"
      },
      "source": [
        "sales= {1 : {'prod' : ui_prod, 'qn' : ui_quant, 'amount' : record[ui_prod]['pr'] * ui_quant},\n",
        "        2 : {'prod' : ui_prod, 'qn' : ui_quant, 'amount' : record[ui_prod]['pr'] * ui_quant},\n",
        "        3 : {'prod' : ui_prod, 'qn' : ui_quant, 'amount' : record[ui_prod]['pr'] * ui_quant}}"
      ],
      "execution_count": null,
      "outputs": []
    },
    {
      "cell_type": "code",
      "metadata": {
        "id": "tFbebKZwadFG"
      },
      "source": [
        "{(len(sales) + 1) : {'prod' : ui_prod, 'qn' : ui_quant, 'amount' : record[ui_prod]['pr'] * ui_quant}}\n",
        "\n",
        "\n",
        "sales[(len(sales) + 1)] = {'prod' : ui_prod, 'qn' : ui_quant, 'amount' : record[ui_prod]['pr'] * ui_quant}\n",
        "\n"
      ],
      "execution_count": null,
      "outputs": []
    },
    {
      "cell_type": "code",
      "metadata": {
        "id": "JUaaskJbadN-"
      },
      "source": [
        "sale = json.dumps(sales)"
      ],
      "execution_count": null,
      "outputs": []
    },
    {
      "cell_type": "code",
      "metadata": {
        "id": "GxCOYUAdaslv"
      },
      "source": [
        "fd = open(\"sales.json\",'w')\n",
        "w = fd.write(sale)\n",
        "fd.close()"
      ],
      "execution_count": null,
      "outputs": []
    },
    {
      "cell_type": "code",
      "metadata": {
        "id": "PWO-ed3xaspa"
      },
      "source": [
        ""
      ],
      "execution_count": null,
      "outputs": []
    },
    {
      "cell_type": "code",
      "metadata": {
        "id": "Vu65Xdw_astf"
      },
      "source": [
        ""
      ],
      "execution_count": null,
      "outputs": []
    },
    {
      "cell_type": "code",
      "metadata": {
        "id": "u19V1L9MaszC"
      },
      "source": [
        ""
      ],
      "execution_count": null,
      "outputs": []
    }
  ]
}